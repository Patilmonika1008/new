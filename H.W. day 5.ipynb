{
 "cells": [
  {
   "cell_type": "code",
   "execution_count": null,
   "id": "09d851f2",
   "metadata": {},
   "outputs": [],
   "source": [
    "Variance (increase)\n",
    "1. Number of sales made in a month.\n",
    "2. Bike average.\n",
    "3. Monthly income.\n",
    "4. Practice and number of mistakes.\n",
    "5. Speed time - destination "
   ]
  },
  {
   "cell_type": "code",
   "execution_count": null,
   "id": "15ae022b",
   "metadata": {},
   "outputs": [],
   "source": [
    "Variance (decrease)\n",
    "1. Number of defective mobile in company\n",
    "2. Ocean pollution.\n",
    "3. Expired medicine in medical / hospital.\n",
    "4. Damaged light bulb in home.\n",
    "5. Chemical fertilizers lace use in farm"
   ]
  },
  {
   "cell_type": "code",
   "execution_count": null,
   "id": "da228d3c",
   "metadata": {},
   "outputs": [],
   "source": [
    "Conditioner probability example\n",
    "1. Tossing a coin.\n",
    "2. A jar contains three blue and 4 red balls if 3 balls are drawn at a random what is the probability that all the 3 balls are either blue or red ."
   ]
  }
 ],
 "metadata": {
  "kernelspec": {
   "display_name": "Python 3 (ipykernel)",
   "language": "python",
   "name": "python3"
  },
  "language_info": {
   "codemirror_mode": {
    "name": "ipython",
    "version": 3
   },
   "file_extension": ".py",
   "mimetype": "text/x-python",
   "name": "python",
   "nbconvert_exporter": "python",
   "pygments_lexer": "ipython3",
   "version": "3.10.9"
  }
 },
 "nbformat": 4,
 "nbformat_minor": 5
}
