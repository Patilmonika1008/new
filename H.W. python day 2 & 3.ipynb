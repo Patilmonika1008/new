{
 "cells": [
  {
   "cell_type": "code",
   "execution_count": 1,
   "id": "3b8010ff",
   "metadata": {},
   "outputs": [
    {
     "name": "stdout",
     "output_type": "stream",
     "text": [
      "30\n"
     ]
    }
   ],
   "source": [
    "# 1) substraction \n",
    "def sub(a,b):\n",
    "    result=a-b\n",
    "    print(result)\n",
    "sub(60,30)"
   ]
  },
  {
   "cell_type": "code",
   "execution_count": 2,
   "id": "2e507183",
   "metadata": {},
   "outputs": [
    {
     "name": "stdout",
     "output_type": "stream",
     "text": [
      "162\n"
     ]
    }
   ],
   "source": [
    "# 2) multiplication \n",
    "def mult(a,b,c):\n",
    "    result=a * b * c\n",
    "    print(result)\n",
    "mult(3,6,9)"
   ]
  },
  {
   "cell_type": "code",
   "execution_count": 3,
   "id": "2caf20ed",
   "metadata": {},
   "outputs": [
    {
     "name": "stdout",
     "output_type": "stream",
     "text": [
      "(8, 625)\n"
     ]
    }
   ],
   "source": [
    "# 3) power function \n",
    "def power(a,b):\n",
    "    result=a**3,b**4\n",
    "    print(result)\n",
    "power(2,5)"
   ]
  },
  {
   "cell_type": "code",
   "execution_count": 4,
   "id": "fca940f9",
   "metadata": {},
   "outputs": [
    {
     "name": "stdout",
     "output_type": "stream",
     "text": [
      "441\n"
     ]
    }
   ],
   "source": [
    "# 4) cube \n",
    "def cube(a):\n",
    "    result=a**2\n",
    "    print(result)\n",
    "cube(21)"
   ]
  },
  {
   "cell_type": "code",
   "execution_count": 9,
   "id": "5a2a0b49",
   "metadata": {},
   "outputs": [
    {
     "data": {
      "text/plain": [
       "45.4"
      ]
     },
     "execution_count": 9,
     "metadata": {},
     "output_type": "execute_result"
    }
   ],
   "source": [
    "# 5) mean of value \n",
    "import numpy as np\n",
    "np.mean([2,23,108,93,1])\n"
   ]
  },
  {
   "cell_type": "code",
   "execution_count": 6,
   "id": "8dc15d23",
   "metadata": {},
   "outputs": [
    {
     "name": "stdout",
     "output_type": "stream",
     "text": [
      "12\n",
      "-6\n",
      "27\n",
      "0.3333333333333333\n"
     ]
    }
   ],
   "source": [
    "# 6) arithmatic operation \n",
    "def add(a,b):\n",
    "    print(a+b)\n",
    "def sub(a,b):\n",
    "    print(a-b)\n",
    "def mult(a,b):\n",
    "    print(a*b)\n",
    "def div(a,b):\n",
    "    print(a/b)\n",
    "    \n",
    "add(3,9)\n",
    "sub(3,9)\n",
    "mult(3,9)\n",
    "div(3,9)"
   ]
  },
  {
   "cell_type": "code",
   "execution_count": 4,
   "id": "92ea8a32",
   "metadata": {},
   "outputs": [
    {
     "data": {
      "text/plain": [
       "30"
      ]
     },
     "execution_count": 4,
     "metadata": {},
     "output_type": "execute_result"
    }
   ],
   "source": [
    "# 1) substraction \n",
    "sub1=lambda a,b : a-b \n",
    "sub1(60,30)"
   ]
  },
  {
   "cell_type": "code",
   "execution_count": 5,
   "id": "b8dc7bad",
   "metadata": {},
   "outputs": [
    {
     "data": {
      "text/plain": [
       "162"
      ]
     },
     "execution_count": 5,
     "metadata": {},
     "output_type": "execute_result"
    }
   ],
   "source": [
    "# 2) multiplication \n",
    "mult1=lambda a,b,c : a * b * c\n",
    "mult1(3,6,9)"
   ]
  },
  {
   "cell_type": "code",
   "execution_count": 6,
   "id": "f411316b",
   "metadata": {},
   "outputs": [
    {
     "data": {
      "text/plain": [
       "625"
      ]
     },
     "execution_count": 6,
     "metadata": {},
     "output_type": "execute_result"
    }
   ],
   "source": [
    "# 3) power function \n",
    "power1=lambda a,b : a**b\n",
    "power1(5,4)"
   ]
  },
  {
   "cell_type": "code",
   "execution_count": 7,
   "id": "db0d42db",
   "metadata": {},
   "outputs": [
    {
     "data": {
      "text/plain": [
       "441"
      ]
     },
     "execution_count": 7,
     "metadata": {},
     "output_type": "execute_result"
    }
   ],
   "source": [
    "# 4) cube \n",
    "cube1=lambda a : a**2\n",
    "cube1(21)"
   ]
  },
  {
   "cell_type": "code",
   "execution_count": 5,
   "id": "32ef6656",
   "metadata": {},
   "outputs": [
    {
     "data": {
      "text/plain": [
       "17.714285714285715"
      ]
     },
     "execution_count": 5,
     "metadata": {},
     "output_type": "execute_result"
    }
   ],
   "source": [
    "# 5) mean of value \n",
    "men1 = lambda *xyz : sum(xyz)/len(xyz)\n",
    "men1(1,3,6,9,18,27,60)"
   ]
  },
  {
   "cell_type": "code",
   "execution_count": 18,
   "id": "2c2de64b",
   "metadata": {},
   "outputs": [
    {
     "data": {
      "text/plain": [
       "12"
      ]
     },
     "execution_count": 18,
     "metadata": {},
     "output_type": "execute_result"
    }
   ],
   "source": [
    "# 6) arithmatic operation \n",
    "add=lambda a,b : a+b\n",
    "add(3,9)"
   ]
  },
  {
   "cell_type": "code",
   "execution_count": 19,
   "id": "1a252f74",
   "metadata": {},
   "outputs": [
    {
     "data": {
      "text/plain": [
       "-6"
      ]
     },
     "execution_count": 19,
     "metadata": {},
     "output_type": "execute_result"
    }
   ],
   "source": [
    "sub=lambda a,b: a-b \n",
    "sub(3,9)\n"
   ]
  },
  {
   "cell_type": "code",
   "execution_count": 20,
   "id": "5fdbe726",
   "metadata": {},
   "outputs": [
    {
     "data": {
      "text/plain": [
       "27"
      ]
     },
     "execution_count": 20,
     "metadata": {},
     "output_type": "execute_result"
    }
   ],
   "source": [
    "mult=lambda a,b : a*b \n",
    "mult(3,9)"
   ]
  },
  {
   "cell_type": "code",
   "execution_count": 21,
   "id": "5c4396ec",
   "metadata": {},
   "outputs": [
    {
     "data": {
      "text/plain": [
       "0.3333333333333333"
      ]
     },
     "execution_count": 21,
     "metadata": {},
     "output_type": "execute_result"
    }
   ],
   "source": [
    "div=lambda a,b : a/b\n",
    "div(3,9)"
   ]
  },
  {
   "cell_type": "code",
   "execution_count": 3,
   "id": "42a0ccd1",
   "metadata": {},
   "outputs": [
    {
     "data": {
      "text/plain": [
       "17.714285714285715"
      ]
     },
     "execution_count": 3,
     "metadata": {},
     "output_type": "execute_result"
    }
   ],
   "source": [
    "def mean(*a):\n",
    "    return sum(a)/len(a)\n",
    "\n",
    "mean(1,3,6,9,18,27,60)"
   ]
  },
  {
   "cell_type": "code",
   "execution_count": 4,
   "id": "cc2636ad",
   "metadata": {},
   "outputs": [
    {
     "data": {
      "text/plain": [
       "17.714285714285715"
      ]
     },
     "execution_count": 4,
     "metadata": {},
     "output_type": "execute_result"
    }
   ],
   "source": [
    "men1 = lambda *xyz : sum(xyz)/len(xyz)\n",
    "men1(1,3,6,9,18,27,60)"
   ]
  },
  {
   "cell_type": "code",
   "execution_count": 6,
   "id": "0209f0d7",
   "metadata": {},
   "outputs": [
    {
     "data": {
      "text/plain": [
       "369.06122448979596"
      ]
     },
     "execution_count": 6,
     "metadata": {},
     "output_type": "execute_result"
    }
   ],
   "source": [
    "def var(*x):\n",
    "    m=sum(x)/len(x)\n",
    "    diff=list(map(lambda a:(a-m)**2,x))\n",
    "    v=sum(diff)/len(x)\n",
    "    return v\n",
    "\n",
    "var(1,3,6,9,18,27,60)\n",
    "    "
   ]
  },
  {
   "cell_type": "code",
   "execution_count": null,
   "id": "ce7dc5b3",
   "metadata": {},
   "outputs": [],
   "source": []
  }
 ],
 "metadata": {
  "kernelspec": {
   "display_name": "Python 3 (ipykernel)",
   "language": "python",
   "name": "python3"
  },
  "language_info": {
   "codemirror_mode": {
    "name": "ipython",
    "version": 3
   },
   "file_extension": ".py",
   "mimetype": "text/x-python",
   "name": "python",
   "nbconvert_exporter": "python",
   "pygments_lexer": "ipython3",
   "version": "3.10.9"
  }
 },
 "nbformat": 4,
 "nbformat_minor": 5
}
