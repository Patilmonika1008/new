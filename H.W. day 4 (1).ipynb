{
 "cells": [
  {
   "cell_type": "code",
   "execution_count": null,
   "id": "3f92e04a",
   "metadata": {},
   "outputs": [],
   "source": [
    "Discrete Data \n",
    "1. The number of defective mangoes in a box of 10\n",
    "2. Mark obtained in statistics student studying in MSC I\n",
    "3. Number of accident at a particular corner of city.\n",
    "4. Number of customer who visit the bank during any given hour.\n",
    "5. The number of pages in statistics textbooks (a countable number of possible value.)"
   ]
  },
  {
   "cell_type": "code",
   "execution_count": null,
   "id": "ad99910a",
   "metadata": {},
   "outputs": [],
   "source": [
    "Continuous Data\n",
    "1. Temperature of certain place\n",
    "2. Distance between two points\n",
    "3. Income level\n",
    "4. The price of a house\n",
    "5. Amount of sugar in a tea\n",
    "6. Financial ratio"
   ]
  },
  {
   "cell_type": "code",
   "execution_count": null,
   "id": "89b1f236",
   "metadata": {},
   "outputs": [],
   "source": [
    "Nominal Data\n",
    "1. Hair colour\n",
    "2. Housing style\n",
    "3. Gender (Men, women)\n",
    "4. Religion\n",
    "5. Tossing coin"
   ]
  },
  {
   "cell_type": "code",
   "execution_count": null,
   "id": "5cde83ab",
   "metadata": {},
   "outputs": [],
   "source": [
    "Ordinal Data\n",
    "1. The first ,second and third person in a competition.\n",
    "2. Olympic rank in race\n",
    "3. When a company ask a customer to rate the sales experience on scale of 1 to 10\n",
    "4. Letter grade : A, B ,C\n",
    "5. Economic status :low ,medium, High."
   ]
  },
  {
   "cell_type": "code",
   "execution_count": null,
   "id": "3f0556ef",
   "metadata": {},
   "outputs": [],
   "source": [
    "Population sample examples\n",
    "1. Blood testing\n",
    "2. Testing of food in a mess\n",
    "3. Survey for job\n",
    "4. Medical study\n",
    "5. Oil testing\n",
    "6. All maths classes in a school as a population one maths class selected as of sample\n",
    "7. If we study trees in a specific forest than all trees in this forest is a population.\n",
    "8. Some fabric test in a Mills.\n",
    "9. A group of 30 patients in a hospital undergoing treatment for covid.\n",
    "10. Weather forecast."
   ]
  },
  {
   "cell_type": "code",
   "execution_count": null,
   "id": "71081779",
   "metadata": {},
   "outputs": [],
   "source": [
    "  Probability examples\n",
    "1. Stock market \n",
    "2. Politics (vote)\n",
    "3. Lottery ticket\n",
    "4. Fliping a coin\n",
    "5. Insurance  (mobile phone getting damaged or lost are high)"
   ]
  }
 ],
 "metadata": {
  "kernelspec": {
   "display_name": "Python 3 (ipykernel)",
   "language": "python",
   "name": "python3"
  },
  "language_info": {
   "codemirror_mode": {
    "name": "ipython",
    "version": 3
   },
   "file_extension": ".py",
   "mimetype": "text/x-python",
   "name": "python",
   "nbconvert_exporter": "python",
   "pygments_lexer": "ipython3",
   "version": "3.10.9"
  }
 },
 "nbformat": 4,
 "nbformat_minor": 5
}
